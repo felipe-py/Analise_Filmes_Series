{
 "cells": [
  {
   "metadata": {},
   "cell_type": "markdown",
   "source": "Picking Up the dataframe with the watchlist",
   "id": "171c198bae3bd463"
  },
  {
   "cell_type": "code",
   "id": "initial_id",
   "metadata": {
    "collapsed": true,
    "ExecuteTime": {
     "end_time": "2025-06-14T21:39:56.029356Z",
     "start_time": "2025-06-14T21:39:55.256466Z"
    }
   },
   "source": [
    "from pathlib import Path\n",
    "import pandas as pd\n",
    "\n",
    "watchlist_path = Path(\"data/watchlist.csv\")\n",
    "watchlist_df = pd.read_csv(watchlist_path)"
   ],
   "outputs": [],
   "execution_count": 1
  }
 ],
 "metadata": {
  "kernelspec": {
   "display_name": "Python 3",
   "language": "python",
   "name": "python3"
  },
  "language_info": {
   "codemirror_mode": {
    "name": "ipython",
    "version": 2
   },
   "file_extension": ".py",
   "mimetype": "text/x-python",
   "name": "python",
   "nbconvert_exporter": "python",
   "pygments_lexer": "ipython2",
   "version": "2.7.6"
  }
 },
 "nbformat": 4,
 "nbformat_minor": 5
}
