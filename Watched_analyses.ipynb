{
 "cells": [
  {
   "cell_type": "markdown",
   "id": "5c7d146f9397918f",
   "metadata": {},
   "source": [
    "Fuction to create the file if the newest dataframe exists"
   ]
  },
  {
   "cell_type": "code",
   "execution_count": 1,
   "id": "aace4a2942c5d717",
   "metadata": {
    "ExecuteTime": {
     "end_time": "2025-06-14T21:05:31.925652Z",
     "start_time": "2025-06-14T21:05:31.165296Z"
    }
   },
   "outputs": [],
   "source": [
    "import pandas as pd     # *****************************************************\n",
    "\n",
    "def create_newest_df(path, colums):\n",
    "    if not path.exists():\n",
    "        file = pd.DataFrame(columns=colums)\n",
    "        file.to_csv(path, index=False)\n",
    "        print(\"File created\")\n",
    "        return file\n",
    "    else:\n",
    "        return pd.read_csv(path)"
   ]
  },
  {
   "cell_type": "markdown",
   "id": "856819d131e6eee4",
   "metadata": {},
   "source": [
    "Reading the existent number of movies that are presented in the files"
   ]
  },
  {
   "cell_type": "code",
   "execution_count": 2,
   "id": "fbfa3e51e72153e0",
   "metadata": {
    "ExecuteTime": {
     "end_time": "2025-06-14T21:05:56.080463Z",
     "start_time": "2025-06-14T21:05:56.004711Z"
    }
   },
   "outputs": [
    {
     "name": "stdout",
     "output_type": "stream",
     "text": [
      "118 118\n"
     ]
    }
   ],
   "source": [
    "from pathlib import Path   #***************************************************\n",
    "\n",
    "letterboxd_data = Path(\"data/diary.csv\")\n",
    "updated_letterboxd_data = Path(\"data/newer_diary.csv\")\n",
    "\n",
    "df = pd.read_csv(letterboxd_data, sep=\",\")\n",
    "newest_df = create_newest_df(updated_letterboxd_data, df.columns)\n",
    "\n",
    "print(len(df), len(newest_df))"
   ]
  },
  {
   "cell_type": "markdown",
   "id": "54fe9dd38b9bda7b",
   "metadata": {},
   "source": [
    "Show the dataframe from letterboxd"
   ]
  },
  {
   "cell_type": "code",
   "execution_count": 3,
   "id": "ac0e1da372ea1768",
   "metadata": {
    "ExecuteTime": {
     "end_time": "2025-06-14T21:06:00.368879Z",
     "start_time": "2025-06-14T21:06:00.352627Z"
    }
   },
   "outputs": [
    {
     "name": "stdout",
     "output_type": "stream",
     "text": [
      "           Date                                     Name  Year          Letterboxd URI  Rating Rewatch  Tags Watched Date\n",
      "0    2023-12-30                                    Venom  2018  https://boxd.it/5r9pCZ     3.0     NaN   NaN   2020-09-18\n",
      "1    2023-12-31                                  Get Out  2017  https://boxd.it/5rMbdz     4.0     NaN   NaN   2020-09-23\n",
      "2    2025-01-08                          The New Mutants  2020  https://boxd.it/8mRaeb     1.5     NaN   NaN   2020-11-12\n",
      "3    2023-12-30                        Wonder Woman 1984  2020  https://boxd.it/5r9y0F     3.5     NaN   NaN   2020-12-28\n",
      "4    2023-12-30                         The Longest Yard  2005  https://boxd.it/5r9w2f     3.5     NaN   NaN   2021-03-17\n",
      "5    2023-12-30             Zack Snyder's Justice League  2021  https://boxd.it/5r9Dz1     4.5     NaN   NaN   2021-03-18\n",
      "6    2023-12-30                               The Father  2020  https://boxd.it/5r9tQV     4.0     NaN   NaN   2021-04-28\n",
      "7    2023-12-30                                Nomadland  2020  https://boxd.it/5r9uJV     1.5     NaN   NaN   2021-05-08\n",
      "8    2023-12-30              Venom: Let There Be Carnage  2021  https://boxd.it/5r9rgh     2.5     NaN   NaN   2021-12-17\n",
      "9    2023-12-30                            Don't Look Up  2021  https://boxd.it/5r9kQn     4.0     NaN   NaN   2021-12-25\n",
      "10   2023-12-30                                  Morbius  2022  https://boxd.it/5r9CeV     2.0     NaN   NaN   2022-05-21\n",
      "11   2023-12-30                               Black Adam  2022  https://boxd.it/5r9fDD     3.0     NaN   NaN   2022-12-24\n",
      "12   2023-12-30            Prison Break: The Final Break  2009  https://boxd.it/5r9evD     3.0     NaN   NaN   2022-12-26\n",
      "13   2023-12-30                                    M3GAN  2022  https://boxd.it/5r9cT9     2.0     NaN   NaN   2023-02-26\n",
      "14   2023-12-30                 Shazam! Fury of the Gods  2023  https://boxd.it/5r9bht     3.0     NaN   NaN   2023-04-07\n",
      "15   2023-12-30                                The Flash  2023  https://boxd.it/5r99Tl     3.5     NaN   NaN   2023-07-18\n",
      "16   2023-12-30                        Captain Fantastic  2016  https://boxd.it/5r98eh     3.5     NaN   NaN   2023-07-23\n",
      "17   2023-12-30      Spider-Man: Across the Spider-Verse  2023  https://boxd.it/5r96Dz     3.5     NaN   NaN   2023-11-11\n",
      "18   2023-12-29                              Blue Beetle  2023  https://boxd.it/5qiFzB     3.0     NaN   NaN   2023-12-24\n",
      "19   2023-12-29                             Bullet Train  2022  https://boxd.it/5qiH4l     4.0     NaN   NaN   2023-12-25\n",
      "20   2023-12-29                        A Man Called Otto  2022  https://boxd.it/5qiIyB     4.5     NaN   NaN   2023-12-26\n",
      "21   2023-12-29                                     Nope  2022  https://boxd.it/5qiB5x     3.5     NaN   NaN   2023-12-27\n",
      "22   2023-12-29                                Uncharted  2022  https://boxd.it/5qEqh7     2.0     NaN   NaN   2023-12-28\n",
      "23   2023-12-30                                   Nobody  2021  https://boxd.it/5rdA4H     3.5     NaN   NaN   2023-12-29\n",
      "24   2023-12-31                           Bruce Almighty  2003  https://boxd.it/5rMuY5     4.0     Yes   NaN   2023-12-30\n",
      "25   2024-01-01                               Uncut Gems  2019  https://boxd.it/5sm5Ld     3.5     NaN   NaN   2023-12-31\n",
      "26   2024-01-02                        Death on the Nile  2022  https://boxd.it/5sKhlT     2.5     NaN   NaN   2024-01-01\n",
      "27   2024-01-02                               You People  2023  https://boxd.it/5t4N7p     2.0     NaN   NaN   2024-01-01\n",
      "28   2024-01-03                                El Camino  2019  https://boxd.it/5tL07B     4.0     NaN   NaN   2024-01-02\n",
      "29   2024-01-16                           Shutter Island  2010  https://boxd.it/5BEYUB     4.5     NaN   NaN   2024-01-15\n",
      "30   2024-01-17                                John Wick  2014  https://boxd.it/5CaVQF     4.0     NaN   NaN   2024-01-16\n",
      "31   2024-01-18                   Leave the World Behind  2023  https://boxd.it/5CDK3F     4.0     NaN   NaN   2024-01-17\n",
      "32   2024-01-19                                       Us  2019  https://boxd.it/5D5OOB     4.0     NaN   NaN   2024-01-18\n",
      "33   2024-01-21                         The Unforgivable  2021  https://boxd.it/5E0nkt     3.5     NaN   NaN   2024-01-20\n",
      "34   2024-01-22                             The Irishman  2019  https://boxd.it/5EJV7j     4.5     Yes   NaN   2024-01-21\n",
      "35   2024-01-24                             Forrest Gump  1994  https://boxd.it/5FEV6f     4.5     NaN   NaN   2024-01-23\n",
      "36   2024-01-27                               GoodFellas  1990  https://boxd.it/5H0WRz     5.0     NaN   NaN   2024-01-26\n",
      "37   2024-01-29                       Gone in 60 Seconds  2000  https://boxd.it/5IdXcn     3.0     NaN   NaN   2024-01-28\n",
      "38   2024-01-30                            The Gentlemen  2019  https://boxd.it/5IIkLZ     3.5     Yes   NaN   2024-01-29\n",
      "39   2024-01-31             Aquaman and the Lost Kingdom  2023  https://boxd.it/5J9XSf     2.5     NaN   NaN   2024-01-30\n",
      "40   2024-02-11                     John Wick: Chapter 2  2017  https://boxd.it/5NRx9x     3.0     NaN   NaN   2024-02-10\n",
      "41   2024-03-11                          American Psycho  2000  https://boxd.it/61oYoH     4.0     NaN   NaN   2024-03-10\n",
      "42   2024-03-12                                     1917  2019  https://boxd.it/62653R     4.0     Yes   NaN   2024-03-11\n",
      "43   2024-03-14                                  Babylon  2022  https://boxd.it/62MhAH     4.5     NaN   NaN   2024-03-13\n",
      "44   2024-03-15                      Society of the Snow  2023  https://boxd.it/63e2Aj     3.5     NaN   NaN   2024-03-14\n",
      "45   2024-03-17                              Poor Things  2023  https://boxd.it/648JgD     3.5     NaN   NaN   2024-03-16\n",
      "46   2024-03-31                           Dune: Part One  2021  https://boxd.it/6aNs1n     3.5     NaN   NaN   2024-03-29\n",
      "47   2024-03-31                           Dune: Part Two  2024  https://boxd.it/6aNvht     4.0     NaN   NaN   2024-03-30\n",
      "48   2024-05-20                             The Revenant  2015  https://boxd.it/6vySm1     3.0     Yes   NaN   2024-05-19\n",
      "49   2024-05-24                                The Thing  1982  https://boxd.it/6x9wt3     4.0     NaN   NaN   2024-05-23\n",
      "50   2024-07-22          Godzilla x Kong: The New Empire  2024  https://boxd.it/6VCguj     2.5     NaN   NaN   2024-07-21\n",
      "51   2024-08-04                                 Deadpool  2016  https://boxd.it/71u59H     3.0     NaN   NaN   2024-08-03\n",
      "52   2024-08-05                               Deadpool 2  2018  https://boxd.it/71U8sz     3.5     NaN   NaN   2024-08-04\n",
      "53   2024-08-06                     Deadpool & Wolverine  2024  https://boxd.it/72ns7J     3.0     NaN   NaN   2024-08-05\n",
      "54   2024-08-26                Beverly Hills Cop: Axel F  2024  https://boxd.it/7bor8J     3.5     NaN   NaN   2024-08-25\n",
      "55   2024-09-06                              Incantation  2022  https://boxd.it/7gqQNr     2.5     NaN   NaN   2024-09-05\n",
      "56   2024-09-15                                    Alien  1979  https://boxd.it/7kyxAv     4.0     NaN   NaN   2024-09-14\n",
      "57   2024-09-15                                  Apostle  2018  https://boxd.it/7kCUS1     3.0     NaN   NaN   2024-09-14\n",
      "58   2024-10-20                            The Substance  2024  https://boxd.it/7B2HM1     3.5     NaN   NaN   2024-10-20\n",
      "59   2024-10-21                                    Wolfs  2024  https://boxd.it/7BIVET     3.0     NaN   NaN   2024-10-21\n",
      "60   2024-10-24                              Rebel Ridge  2024  https://boxd.it/7CTy7j     3.0     NaN   NaN   2024-10-23\n",
      "61   2024-10-30                               Don't Move  2024  https://boxd.it/7GhbdD     3.0     NaN   NaN   2024-10-29\n",
      "62   2024-11-02                            Groundhog Day  1993  https://boxd.it/7HTMUT     4.0     Yes   NaN   2024-11-02\n",
      "63   2024-11-03                                    Twins  1988  https://boxd.it/7I8pCd     4.0     NaN   NaN   2024-11-02\n",
      "64   2024-11-09                             The Departed  2006  https://boxd.it/7Lg8nD     4.5     NaN   NaN   2024-11-08\n",
      "65   2024-11-10                      Joker: Folie à Deux  2024  https://boxd.it/7LI3IH     3.0     NaN   NaN   2024-11-09\n",
      "66   2024-11-11                            Another Round  2020  https://boxd.it/7McHpF     3.5     NaN   NaN   2024-11-10\n",
      "67   2024-11-14             Murder on the Orient Express  2017  https://boxd.it/7NKngl     3.5     NaN   NaN   2024-11-13\n",
      "68   2024-11-15   Apocalypse Z: The Beginning of the End  2024  https://boxd.it/7O98WB     2.5     NaN   NaN   2024-11-14\n",
      "69   2024-11-16           Rise of the Planet of the Apes  2011  https://boxd.it/7OCO29     4.0     Yes   NaN   2024-11-15\n",
      "70   2024-11-18                             Transformers  2007  https://boxd.it/7PLyoF     3.5     NaN   NaN   2024-11-17\n",
      "71   2024-12-08                        Kill Bill: Vol. 1  2003  https://boxd.it/7ZEv3l     4.0     NaN   NaN   2024-12-07\n",
      "72   2024-12-08                                    Click  2006  https://boxd.it/7ZOvh3     3.5     NaN   NaN   2024-12-07\n",
      "73   2024-12-09                                   Avatar  2009  https://boxd.it/80f6UD     4.0     NaN   NaN   2024-12-08\n",
      "74   2024-12-14           Dawn of the Planet of the Apes  2014  https://boxd.it/82UkNB     4.5     Yes   NaN   2024-12-14\n",
      "75   2024-12-20                    Venom: The Last Dance  2024  https://boxd.it/86cMg9     2.5     NaN   NaN   2024-12-19\n",
      "76   2024-12-27                      The Lives of Others  2006  https://boxd.it/8bhWKj     4.5     NaN   NaN   2024-12-26\n",
      "77   2024-12-29                                Civil War  2024  https://boxd.it/8cI9m1     3.5     NaN   NaN   2024-12-28\n",
      "78   2024-12-30                            American Made  2017  https://boxd.it/8e5Pqf     3.5     NaN   NaN   2024-12-29\n",
      "79   2024-12-31                          The Truman Show  1998  https://boxd.it/8f1DLh     5.0     Yes   NaN   2024-12-30\n",
      "80   2025-01-01                               Home Alone  1990  https://boxd.it/8fOKz1     4.0     Yes   NaN   2024-12-31\n",
      "81   2025-01-01           Home Alone 2: Lost in New York  1992  https://boxd.it/8fSNOr     4.5     Yes   NaN   2025-01-01\n",
      "82   2025-01-03                     The Royal Tenenbaums  2001  https://boxd.it/8hKo0N     3.5     NaN   NaN   2025-01-02\n",
      "83   2025-01-05    Horizon: An American Saga - Chapter 1  2024  https://boxd.it/8k2xZf     2.5     NaN   NaN   2025-01-04\n",
      "84   2025-01-06                                  Memento  2000  https://boxd.it/8lglHP     5.0     NaN   NaN   2025-01-06\n",
      "85   2025-01-09                               Inside Out  2015  https://boxd.it/8nQV2j     4.5     Yes   NaN   2025-01-09\n",
      "86   2025-01-12                       The King of Comedy  1982  https://boxd.it/8qZ3GJ     3.5     NaN   NaN   2025-01-11\n",
      "87   2025-01-13                             Pulp Fiction  1994  https://boxd.it/8slRl5     4.0     NaN   NaN   2025-01-13\n",
      "88   2025-01-19    Anchorman: The Legend of Ron Burgundy  2004  https://boxd.it/8wSRPh     3.0     NaN   NaN   2025-01-18\n",
      "89   2025-01-20                                    Rocky  1976  https://boxd.it/8xmMW3     4.0     Yes   NaN   2025-01-19\n",
      "90   2025-01-21                                    Se7en  1995  https://boxd.it/8yEstv     5.0     NaN   NaN   2025-01-20\n",
      "91   2025-01-24             Planes, Trains & Automobiles  1987  https://boxd.it/8AqXmv     3.5     NaN   NaN   2025-01-23\n",
      "92   2025-01-27                             Interstellar  2014  https://boxd.it/8CU6Q1     4.5     NaN   NaN   2025-01-26\n",
      "93   2025-01-28                          The Sixth Sense  1999  https://boxd.it/8DVAtd     4.0     Yes   NaN   2025-01-27\n",
      "94   2025-01-31                               Fight Club  1999  https://boxd.it/8G3dt9     3.0     NaN   NaN   2025-01-30\n",
      "95   2025-02-01                              Elite Squad  2007  https://boxd.it/8GGxpf     3.0     NaN   NaN   2025-01-31\n",
      "96   2025-02-02                            Deep Blue Sea  1999  https://boxd.it/8HiSSt     3.0     NaN   NaN   2025-02-01\n",
      "97   2025-02-03                            The Nice Guys  2016  https://boxd.it/8Id8Mt     3.5     Yes   NaN   2025-02-02\n",
      "98   2025-02-05  The Unbearable Weight of Massive Talent  2022  https://boxd.it/8JFPvF     3.0     NaN   NaN   2025-02-04\n",
      "99   2025-02-07                       Me, Myself & Irene  2000  https://boxd.it/8KxR1F     4.0     NaN   NaN   2025-02-06\n",
      "100  2025-02-07          Elite Squad 2: The Enemy Within  2010  https://boxd.it/8KEhjx     4.0     NaN   NaN   2025-02-06\n",
      "101  2025-02-15                                  Heretic  2024  https://boxd.it/8PF99B     2.5     NaN   NaN   2025-02-14\n",
      "102  2025-02-16                             Donnie Darko  2001  https://boxd.it/8Qt65h     3.0     NaN   NaN   2025-02-15\n",
      "103  2025-02-22                             Emilia Pérez  2024  https://boxd.it/8Ug5Gr     2.0     NaN   NaN   2025-02-21\n",
      "104  2025-02-25                           I'm Still Here  2024  https://boxd.it/8WJA4T     4.0     NaN   NaN   2025-02-24\n",
      "105  2025-03-02                                 Conclave  2024  https://boxd.it/8Zr4hd     4.0     NaN   NaN   2025-03-01\n",
      "106  2025-03-02                                    Anora  2024  https://boxd.it/8ZMYxj     3.0     NaN   NaN   2025-03-02\n",
      "107  2025-03-03                            The Brutalist  2024  https://boxd.it/90kS0B     3.0     NaN   NaN   2025-03-02\n",
      "108  2025-03-09                             Inside Out 2  2024  https://boxd.it/94hoBd     3.0     NaN   NaN   2025-03-08\n",
      "109  2025-03-10                        Kill Bill: Vol. 2  2004  https://boxd.it/957V9l     4.0     NaN   NaN   2025-03-09\n",
      "110  2025-03-15         Captain America: Brave New World  2025  https://boxd.it/97Vxqv     2.5     NaN   NaN   2025-03-14\n",
      "111  2025-04-11                                Mickey 17  2025  https://boxd.it/9nn7n7     3.0     NaN   NaN   2025-04-11\n",
      "112  2025-04-14                                 Longlegs  2024  https://boxd.it/9oPa9R     2.5     NaN   NaN   2025-04-13\n",
      "113  2025-05-02                             A Dog's Will  1999  https://boxd.it/9zL7E9     4.5     NaN   NaN   2025-05-01\n",
      "114  2025-05-03                               The Monkey  2025  https://boxd.it/9AhmZ1     2.0     NaN   NaN   2025-05-02\n",
      "115  2025-05-04                           A Dog's Will 2  2024  https://boxd.it/9APC6J     2.5     NaN   NaN   2025-05-03\n",
      "116  2025-05-10                           The Accountant  2016  https://boxd.it/9Eaeyt     3.0     NaN   NaN   2025-05-08\n",
      "117  2025-05-26                          Oeste Outra Vez  2024  https://boxd.it/9NJnm3     4.0     NaN   NaN   2025-05-25\n"
     ]
    }
   ],
   "source": [
    "print(df.to_string())"
   ]
  },
  {
   "cell_type": "markdown",
   "id": "b5569bb7ef6552f6",
   "metadata": {},
   "source": [
    "_Picking up all movie information from OMDB_"
   ]
  },
  {
   "cell_type": "markdown",
   "id": "ec088c815b158695",
   "metadata": {},
   "source": [
    "EXAMPLE OF API OUTPUT\n",
    "\n",
    "Title => Inception\n",
    "Year => 2010\n",
    "Rated => PG-13\n",
    "Released => 16 Jul 2010\n",
    "Runtime => 148 min\n",
    "Genre => Action, Adventure, Sci-Fi\n",
    "Director => Christopher Nolan\n",
    "Writer => Christopher Nolan\n",
    "Actors => Leonardo DiCaprio, Joseph Gordon-Levitt, Elliot Page\n",
    "\n",
    "Plot => A thief who steals corporate secrets through the use of dream-sharing technology is given the inverse task of planting an idea into the mind of a C.E.O., but his tragic past may doom the project and his team to disaster.\n",
    "\n",
    "Language => English, Japanese, French\n",
    "Country => United States, United Kingdom\n",
    "Awards => Won 4 Oscars. 159 wins & 220 nominations total\n",
    "Poster => https://m.media-amazon.com/images/M/MV5BMjAxMzY3NjcxNF5BMl5BanBnXkFtZTcwNTI5OTM0Mw@@._V1_SX300.jpg\n",
    "\n",
    "Ratings:\n",
    " - Internet Movie Database: 8.8/10\n",
    " - Rotten Tomatoes: 87%\n",
    " - Metacritic: 74/100\n",
    "\n",
    "Metascore => 74\n",
    "imdbRating => 8.8\n",
    "imdbVotes => 2,626,859\n",
    "imdbID => tt1375666\n",
    "Type => movie\n",
    "DVD => N/A"
   ]
  },
  {
   "cell_type": "code",
   "execution_count": 16,
   "id": "60a3b36039d4f0c6",
   "metadata": {
    "ExecuteTime": {
     "end_time": "2025-06-14T21:15:38.048033Z",
     "start_time": "2025-06-14T21:15:38.033473Z"
    }
   },
   "outputs": [
    {
     "name": "stdout",
     "output_type": "stream",
     "text": [
      "           Date                              Name  Year          Letterboxd URI  Rating Rewatch  Tags Watched Date\n",
      "109  2025-03-10                 Kill Bill: Vol. 2  2004  https://boxd.it/957V9l     4.0     NaN   NaN   2025-03-09\n",
      "110  2025-03-15  Captain America: Brave New World  2025  https://boxd.it/97Vxqv     2.5     NaN   NaN   2025-03-14\n",
      "111  2025-04-11                         Mickey 17  2025  https://boxd.it/9nn7n7     3.0     NaN   NaN   2025-04-11\n",
      "112  2025-04-14                          Longlegs  2024  https://boxd.it/9oPa9R     2.5     NaN   NaN   2025-04-13\n",
      "113  2025-05-02                      A Dog's Will  1999  https://boxd.it/9zL7E9     4.5     NaN   NaN   2025-05-01\n",
      "114  2025-05-03                        The Monkey  2025  https://boxd.it/9AhmZ1     2.0     NaN   NaN   2025-05-02\n",
      "115  2025-05-04                    A Dog's Will 2  2024  https://boxd.it/9APC6J     2.5     NaN   NaN   2025-05-03\n",
      "116  2025-05-10                    The Accountant  2016  https://boxd.it/9Eaeyt     3.0     NaN   NaN   2025-05-08\n",
      "117  2025-05-26                   Oeste Outra Vez  2024  https://boxd.it/9NJnm3     4.0     NaN   NaN   2025-05-25\n"
     ]
    }
   ],
   "source": [
    "# Filtra filmes que não estão em newest_df #*************************************************\n",
    "df_to_process = df[~df['Name'].isin(newest_df['Name'])]\n",
    "print(df_to_process.to_string())\n"
   ]
  },
  {
   "cell_type": "code",
   "execution_count": 17,
   "id": "590744716de5aec3",
   "metadata": {
    "ExecuteTime": {
     "end_time": "2025-06-14T21:15:44.919825Z",
     "start_time": "2025-06-14T21:15:43.271899Z"
    }
   },
   "outputs": [
    {
     "name": "stdout",
     "output_type": "stream",
     "text": [
      "Filme 109: Kill Bill: Vol. 2 encontrado\n",
      "Filme 110: Captain America: Brave New World encontrado\n",
      "Filme 111: Mickey 17 encontrado\n",
      "Filme 112: Longlegs encontrado\n",
      "Filme 113: A Dog's Will encontrado\n",
      "Filme 114: The Monkey encontrado\n",
      "Filme 115: A Dog's Will 2 encontrado\n",
      "Filme 116: The Accountant encontrado\n",
      "Filme 117: Oeste Outra Vez encontrado\n"
     ]
    }
   ],
   "source": [
    "import traceback  #*****************************************\n",
    "import requests\n",
    "\n",
    "BASE_URL = \"http://www.omdbapi.com/\"\n",
    "\n",
    "if df_to_process.empty:\n",
    "    print(\"There are no new movies to process. Exiting.\")\n",
    "\n",
    "else:\n",
    "    for i, row in df_to_process.iterrows():\n",
    "        params = {\"apikey\": \"77055a01\", \"t\": row[\"Name\"], \"y\": row[\"Year\"]}\n",
    "        try:\n",
    "            response = requests.get(BASE_URL, params=params)\n",
    "            data = response.json()\n",
    "\n",
    "            if \"Title\" in data and row[\"Name\"].lower() == data[\"Title\"].lower():\n",
    "                print(f\"Filme {i}: {row['Name']} encontrado\")\n",
    "            else:\n",
    "                print(f\"\\n ******* Título não corresponde ou não encontrado: {row['Name']} != {data.get('Title', 'N/A')} ******* \\n\")\n",
    "        except Exception as e:\n",
    "            print(f\"Erro no índice {i}: {e}\")\n",
    "            print(\"Traceback:\")\n",
    "            traceback.print_exc()\n"
   ]
  },
  {
   "cell_type": "markdown",
   "id": "42fe13b1c3b894db",
   "metadata": {},
   "source": [
    "Making the necessary changes in the incompatible movie names"
   ]
  },
  {
   "cell_type": "code",
   "execution_count": 15,
   "id": "61dcdcab22a98cbd",
   "metadata": {
    "ExecuteTime": {
     "end_time": "2025-06-14T21:15:28.280478Z",
     "start_time": "2025-06-14T21:15:28.266280Z"
    }
   },
   "outputs": [],
   "source": [
    "df.loc[91, \"Name\"] = \"Planes, Trains & Automobiles\"     #**********************************************\n",
    "df.loc[83, \"Name\"] = \"Horizon: An American Saga - Chapter 1\"\n",
    "df.loc[50, \"Name\"] = \"Godzilla x Kong: The New Empire\"\n",
    "df.loc[37, \"Name\"] = \"Gone in 60 Seconds\"\n",
    "df.loc[28, \"Name\"] = \"El Camino\"\n",
    "df.loc[100, \"Name\"] = \"Elite Squad 2: The Enemy Within\"\n",
    "df.loc[46, \"Name\"] = \"Dune: Part One\"\n",
    "df.loc[113, \"Name\"] = \"A Dog's Will\"\n",
    "df.loc[115, \"Name\"] = \"A Dog's Will 2\"\n",
    "df.loc[117, \"Name\"] = \"Oeste Outra Vez\"\n",
    "\n",
    "df.to_csv(letterboxd_data, index=False)"
   ]
  },
  {
   "cell_type": "code",
   "execution_count": 18,
   "id": "da9ab361ea2e6b7",
   "metadata": {
    "ExecuteTime": {
     "end_time": "2025-06-14T21:15:52.925257Z",
     "start_time": "2025-06-14T21:15:51.243962Z"
    }
   },
   "outputs": [
    {
     "name": "stdout",
     "output_type": "stream",
     "text": [
      "Processando filme 109: Kill Bill: Vol. 2\n",
      "Informações adicionadas com sucesso para o filme: Kill Bill: Vol. 2\n",
      "Processando filme 110: Captain America: Brave New World\n",
      "Informações adicionadas com sucesso para o filme: Captain America: Brave New World\n",
      "Processando filme 111: Mickey 17\n",
      "Informações adicionadas com sucesso para o filme: Mickey 17\n",
      "Processando filme 112: Longlegs\n",
      "Informações adicionadas com sucesso para o filme: Longlegs\n",
      "Processando filme 113: A Dog's Will\n",
      "Informações adicionadas com sucesso para o filme: A Dog's Will\n",
      "Processando filme 114: The Monkey\n",
      "Informações adicionadas com sucesso para o filme: The Monkey\n",
      "Processando filme 115: A Dog's Will 2\n",
      "Informações adicionadas com sucesso para o filme: A Dog's Will 2\n",
      "Processando filme 116: The Accountant\n",
      "Informações adicionadas com sucesso para o filme: The Accountant\n",
      "Processando filme 117: Oeste Outra Vez\n",
      "Informações adicionadas com sucesso para o filme: Oeste Outra Vez\n"
     ]
    }
   ],
   "source": [
    "import pandas as pd   #**********************************\n",
    "\n",
    "if df_to_process.empty:\n",
    "    print(\"There are no new movies to process. Exiting.\")\n",
    "\n",
    "else:\n",
    "    for i, row in df_to_process.iterrows():\n",
    "        params = {\"apikey\": \"77055a01\", \"t\": row[\"Name\"], \"y\": row[\"Year\"]}\n",
    "        try:\n",
    "            response = requests.get(BASE_URL, params=params)\n",
    "            data = response.json()\n",
    "\n",
    "            print(f\"Processando filme {i}: {row['Name']}\")\n",
    "\n",
    "            # Verificando se o título retornado pela API corresponde\n",
    "            if \"Title\" in data and row[\"Name\"].lower() == data[\"Title\"].lower():\n",
    "                new_info = {\n",
    "                    \"Name\": row.get(\"Name\", \"\"),\n",
    "                    \"Year\": row.get(\"Year\", \"\"),\n",
    "                    \"Letterboxd URI\": row.get(\"Letterboxd URI\", \"\"),\n",
    "                    \"Rating\": row.get(\"Rating\", \"\"),\n",
    "                    \"Watched Date\": row.get(\"Watched Date\", \"\"),\n",
    "                    \"Runtime\": data.get(\"Runtime\", \"\"),\n",
    "                    \"Genre\": data.get(\"Genre\", \"\"),\n",
    "                    \"Director\": data.get(\"Director\", \"\"),\n",
    "                    \"Writer\": data.get(\"Writer\", \"\"),\n",
    "                    \"Actors\": data.get(\"Actors\", \"\"),\n",
    "                    \"Language\": data.get(\"Language\", \"\"),\n",
    "                    \"Country\": data.get(\"Country\", \"\"),\n",
    "                    \"Poster\": data.get(\"Poster\", \"\")\n",
    "                }\n",
    "                # Adiciona a nova linha ao DataFrame de destino\n",
    "                newest_df = pd.concat([newest_df, pd.DataFrame([new_info])], ignore_index=False)\n",
    "                print(f\"Informações adicionadas com sucesso para o filme: {row['Name']}\\n\")\n",
    "            else:\n",
    "                print(f\"\\n ******* Título não corresponde ou não encontrado: {row['Name']} != {data.get('Title', 'N/A')} ******* \\n\")\n",
    "        except Exception as e:\n",
    "            print(f\"Erro no índice {i}: {e}\")\n",
    "            print(\"Traceback:\")\n",
    "            traceback.print_exc()\n"
   ]
  },
  {
   "cell_type": "markdown",
   "id": "f4cac1cf",
   "metadata": {},
   "source": [
    "Cleaning unnecessary columns"
   ]
  },
  {
   "cell_type": "code",
   "execution_count": 17,
   "id": "d63bb295",
   "metadata": {},
   "outputs": [],
   "source": [
    "newest_df.drop(['Date', 'Rewatch', \"Tags\"], axis='columns', inplace=True)"
   ]
  },
  {
   "cell_type": "markdown",
   "id": "aa8aec67228a06cd",
   "metadata": {},
   "source": [
    "Updating the new info to newer_diary and open it no make the analysis"
   ]
  },
  {
   "cell_type": "code",
   "execution_count": 18,
   "id": "58790817c1682530",
   "metadata": {
    "ExecuteTime": {
     "end_time": "2025-06-14T21:16:10.633154Z",
     "start_time": "2025-06-14T21:16:10.552110Z"
    }
   },
   "outputs": [],
   "source": [
    "newest_df.to_csv(updated_letterboxd_data, index=False)    #*******************************\n",
    "newest_df = pd.read_csv(updated_letterboxd_data, sep=\",\")"
   ]
  },
  {
   "cell_type": "code",
   "execution_count": 19,
   "id": "acdf30b0",
   "metadata": {},
   "outputs": [
    {
     "name": "stdout",
     "output_type": "stream",
     "text": [
      "(118, 13)\n"
     ]
    }
   ],
   "source": [
    "print(newest_df.shape)"
   ]
  },
  {
   "cell_type": "markdown",
   "id": "b13c3792618ff766",
   "metadata": {},
   "source": [
    "Watched total time"
   ]
  },
  {
   "cell_type": "code",
   "execution_count": 21,
   "id": "ad6aa937f709d0ac",
   "metadata": {
    "ExecuteTime": {
     "end_time": "2025-06-14T21:16:14.940289Z",
     "start_time": "2025-06-14T21:16:14.926732Z"
    }
   },
   "outputs": [
    {
     "name": "stdout",
     "output_type": "stream",
     "text": [
      "Total watched time: 240.20 hours\n"
     ]
    }
   ],
   "source": [
    "total_minutes = 0   #*****************************\n",
    "\n",
    "for i in range(len(newest_df)):\n",
    "    if pd.notna(newest_df.loc[i, \"Runtime\"]) and newest_df.loc[i, \"Runtime\"] != \"N/A\":\n",
    "        total_minutes += int(newest_df[\"Runtime\"][i][:3])\n",
    "\n",
    "print(f\"Total watched time: {total_minutes / 60:.2f} hours\")\n"
   ]
  },
  {
   "cell_type": "markdown",
   "id": "820b6e782408a0b7",
   "metadata": {},
   "source": [
    "Function to separate each topic (Genre, Director, Writer, Actors, Language, Country)"
   ]
  },
  {
   "cell_type": "code",
   "execution_count": 21,
   "id": "77fd160f8e2e79d1",
   "metadata": {
    "ExecuteTime": {
     "end_time": "2025-06-14T21:16:38.945104Z",
     "start_time": "2025-06-14T21:16:38.936494Z"
    }
   },
   "outputs": [],
   "source": [
    "def count_topics(info, topic):    #************************\n",
    "    if newest_df.loc[i, topic] is not None:\n",
    "        temp = info[topic].tolist()\n",
    "        topics = []\n",
    "\n",
    "        for elem in temp:\n",
    "            if pd.notna(elem):\n",
    "                for topic in elem.split(\", \"):\n",
    "                    topics.append(topic)\n",
    "\n",
    "        return Counter(topics)\n"
   ]
  },
  {
   "cell_type": "markdown",
   "id": "9aedc7244f8e680e",
   "metadata": {},
   "source": [
    "Function to calculate the mean rating of elements inside a topic"
   ]
  },
  {
   "cell_type": "code",
   "execution_count": 22,
   "id": "b007c832f60c2d0f",
   "metadata": {
    "ExecuteTime": {
     "end_time": "2025-06-14T21:16:40.844505Z",
     "start_time": "2025-06-14T21:16:40.836851Z"
    }
   },
   "outputs": [],
   "source": [
    "def cal_mean(info, topic):    #****************************\n",
    "    topic_rating_sum = {}\n",
    "    topic_rating_count = {}\n",
    "\n",
    "    # Iterar sobre cada linha do DataFrame\n",
    "    for i in range(len(info)):\n",
    "        infos = info.loc[i, topic]\n",
    "        rating = info.loc[i, \"Rating\"]\n",
    "\n",
    "        # Verificar se o valor de 'Genre' não é nulo\n",
    "        if infos != \"N/A\" and pd.notna(infos):\n",
    "            # Separar os gêneros\n",
    "            info_list = infos.split(\", \")\n",
    "            for p in info_list:\n",
    "                # Adicionar o rating ao gênero correspondente\n",
    "                if p not in topic_rating_sum:\n",
    "                    topic_rating_sum[p] = 0\n",
    "                    topic_rating_count[p] = 0\n",
    "                topic_rating_sum[p] += rating\n",
    "                topic_rating_count[p] += 1\n",
    "\n",
    "    # Calcular a média de ratings por gênero\n",
    "    average_rating_by_topic = {\n",
    "        elem: topic_rating_sum[elem] / topic_rating_count[elem]\n",
    "        for elem in topic_rating_sum\n",
    "    }\n",
    "\n",
    "    return average_rating_by_topic"
   ]
  },
  {
   "cell_type": "markdown",
   "id": "bea96dd872a6d712",
   "metadata": {},
   "source": [
    "Function to separate the topic and the most wathed movies, with rating"
   ]
  },
  {
   "cell_type": "code",
   "execution_count": 23,
   "id": "15e1b83618f08abe",
   "metadata": {
    "ExecuteTime": {
     "end_time": "2025-06-14T21:16:43.558326Z",
     "start_time": "2025-06-14T21:16:43.551579Z"
    }
   },
   "outputs": [],
   "source": [
    "def separate_topic_and_most_wathed(topic, newest_df):    #************************\n",
    "\n",
    "    topic_mean = cal_mean(newest_df, topic)\n",
    "\n",
    "    for i in count_topics(newest_df, topic).most_common(5):\n",
    "        print(f\"{i[0]} => {i[1]} movies, Mean Rating: {topic_mean[i[0]]:.2f}\\n\")"
   ]
  },
  {
   "cell_type": "markdown",
   "id": "cef4e3901a816a5e",
   "metadata": {},
   "source": [
    "Function to sorted the dict of each topic (REVERSE=TRUE, to picking up top rating)"
   ]
  },
  {
   "cell_type": "code",
   "execution_count": 24,
   "id": "6ce743eab9100742",
   "metadata": {
    "ExecuteTime": {
     "end_time": "2025-06-14T21:16:45.240276Z",
     "start_time": "2025-06-14T21:16:45.235348Z"
    }
   },
   "outputs": [],
   "source": [
    "def sorted_dict_by_rating(dict_info):       #************************\n",
    "    return dict(sorted(dict_info.items(), key=lambda item: item[1][1], reverse=True))"
   ]
  },
  {
   "cell_type": "markdown",
   "id": "a1f2dce94fe4b30c",
   "metadata": {},
   "source": [
    "Formating data to show the info dict by rating"
   ]
  },
  {
   "cell_type": "code",
   "execution_count": 25,
   "id": "a7acc6225746e08c",
   "metadata": {
    "ExecuteTime": {
     "end_time": "2025-06-14T21:16:46.554551Z",
     "start_time": "2025-06-14T21:16:46.500371Z"
    }
   },
   "outputs": [],
   "source": [
    "def format_dict_by_rating(topic, newest_df):     #***********************\n",
    "\n",
    "    topic_mean = cal_mean(newest_df, topic)\n",
    "    dict_topic = {}\n",
    "\n",
    "    for i in count_topics(newest_df, topic).most_common():\n",
    "        dict_topic[i[0]] = [i[1], topic_mean[i[0]]]\n",
    "\n",
    "    for item in islice(sorted_dict_by_rating(dict_topic).items(), 5):\n",
    "        print(f\"{topic} > {item[0]} => N WATCHED: {item[1][0]} || MEAN RATING: {item[1][1]:.2f}\")"
   ]
  },
  {
   "cell_type": "markdown",
   "id": "91d334a6e311e98d",
   "metadata": {},
   "source": [
    "Separate movie ratings by decade"
   ]
  },
  {
   "cell_type": "code",
   "execution_count": 26,
   "id": "f1294f433914a8fa",
   "metadata": {
    "ExecuteTime": {
     "end_time": "2025-06-14T21:16:49.089387Z",
     "start_time": "2025-06-14T21:16:49.079123Z"
    }
   },
   "outputs": [],
   "source": [
    "def separate_movie_by_decade(newest_df):         #**********************************\n",
    "    decades = {}\n",
    "    min_year = newest_df[\"Year\"].min()\n",
    "    max_year = newest_df[\"Year\"].max()\n",
    "    aux_min_year = min_year\n",
    "\n",
    "    for i in range(min_year, max_year + 1):\n",
    "        if i % 10 == 0:\n",
    "            aux_max_year = i\n",
    "            decades[f\"{aux_min_year}-{aux_max_year}\"] = None\n",
    "            aux_min_year = i + 1\n",
    "\n",
    "    decades[f\"{aux_min_year}-{max_year}\"] = None\n",
    "\n",
    "    return decades"
   ]
  },
  {
   "cell_type": "markdown",
   "id": "885203871c240194",
   "metadata": {},
   "source": [
    "Alocate rating per decade"
   ]
  },
  {
   "cell_type": "code",
   "execution_count": 27,
   "id": "ffb2e3578590128c",
   "metadata": {
    "ExecuteTime": {
     "end_time": "2025-06-14T21:16:53.328888Z",
     "start_time": "2025-06-14T21:16:53.281960Z"
    }
   },
   "outputs": [
    {
     "name": "stdout",
     "output_type": "stream",
     "text": [
      "1976-1980 => 4.00 stars\n",
      "1981-1990 => 3.94 stars\n",
      "1991-2000 => 4.34 stars\n",
      "2001-2010 => 3.68 stars\n",
      "2011-2020 => 3.59 stars\n",
      "2021-2025 => 3.07 stars\n"
     ]
    }
   ],
   "source": [
    "decades = separate_movie_by_decade(newest_df)     #******************************\n",
    "\n",
    "for key in decades.keys():\n",
    "    aux_rating = 0\n",
    "    s = 0\n",
    "\n",
    "    ini = key[:4]\n",
    "    end = key[5:]\n",
    "\n",
    "    for i in range(int(ini) , int(end) + 1):\n",
    "        year_rating = newest_df[newest_df[\"Year\"] == i][\"Rating\"].mean()\n",
    "        if pd.notna(year_rating):\n",
    "            aux_rating += year_rating\n",
    "            s += 1\n",
    "\n",
    "    decades[key] = aux_rating / s if s > 0 else 0\n",
    "\n",
    "for key in decades:\n",
    "    print(f\"{key} => {decades[key]:.2f} stars\")"
   ]
  },
  {
   "cell_type": "markdown",
   "id": "987be5540d537cfa",
   "metadata": {},
   "source": [
    "Total number of watched movies"
   ]
  },
  {
   "cell_type": "code",
   "execution_count": 28,
   "id": "d3b49e33dcef5be7",
   "metadata": {
    "ExecuteTime": {
     "end_time": "2025-06-14T21:17:01.038204Z",
     "start_time": "2025-06-14T21:17:01.024222Z"
    }
   },
   "outputs": [
    {
     "name": "stdout",
     "output_type": "stream",
     "text": [
      "118 movies watched\n"
     ]
    }
   ],
   "source": [
    "print(f\"{len(newest_df)} movies watched\")  #******************************"
   ]
  },
  {
   "cell_type": "markdown",
   "id": "23761158ae60f1ee",
   "metadata": {},
   "source": [
    "Mean value of all ratings"
   ]
  },
  {
   "cell_type": "code",
   "execution_count": 29,
   "id": "3e4220f516a473a7",
   "metadata": {
    "ExecuteTime": {
     "end_time": "2025-06-14T21:17:06.005472Z",
     "start_time": "2025-06-14T21:17:05.997737Z"
    }
   },
   "outputs": [
    {
     "name": "stdout",
     "output_type": "stream",
     "text": [
      "Mean rating of 3.46 stars\n"
     ]
    }
   ],
   "source": [
    "print(\"Mean rating of {:.2f} stars\".format(newest_df[\"Rating\"].mean())) #********************************"
   ]
  },
  {
   "cell_type": "markdown",
   "id": "973c8f5269c82416",
   "metadata": {},
   "source": [
    "Year mean of produced movies watched"
   ]
  },
  {
   "cell_type": "code",
   "execution_count": 30,
   "id": "384a7c6534b66a42",
   "metadata": {
    "ExecuteTime": {
     "end_time": "2025-06-14T21:17:08.616830Z",
     "start_time": "2025-06-14T21:17:08.611670Z"
    }
   },
   "outputs": [
    {
     "name": "stdout",
     "output_type": "stream",
     "text": [
      "2014\n"
     ]
    }
   ],
   "source": [
    "print(\"{:.0f}\".format(df[\"Year\"].mean()))   #**********************************"
   ]
  },
  {
   "cell_type": "markdown",
   "id": "e3ff03728444b1eb",
   "metadata": {},
   "source": [
    "Movies logged in a specific year (TOP 5)"
   ]
  },
  {
   "cell_type": "code",
   "execution_count": 31,
   "id": "d9533abea1b34071",
   "metadata": {
    "ExecuteTime": {
     "end_time": "2025-06-14T21:17:12.036327Z",
     "start_time": "2025-06-14T21:17:12.019139Z"
    }
   },
   "outputs": [
    {
     "name": "stdout",
     "output_type": "stream",
     "text": [
      "2024 => 55 watched films\n",
      "2025 => 37 watched films\n",
      "2023 => 13 watched films\n",
      "2021 => 6 watched films\n",
      "2020 => 4 watched films\n",
      "2022 => 3 watched films\n"
     ]
    }
   ],
   "source": [
    "from collections import Counter     #********************************\n",
    "aux = df[\"Watched Date\"].tolist()\n",
    "w = []\n",
    "\n",
    "for i in range(len(aux)):\n",
    "    w.append(aux[i][:4])\n",
    "\n",
    "w_counter = Counter(w)\n",
    "\n",
    "for item in w_counter.most_common(len(w_counter)):\n",
    "    print(f\"{item[0]} => {item[1]} watched films\")"
   ]
  },
  {
   "cell_type": "markdown",
   "id": "43f6848114ba9f4b",
   "metadata": {},
   "source": [
    "Year with more watched movies and mean rating (TOP FIVE BY NUMBER OF MOVIES)"
   ]
  },
  {
   "cell_type": "code",
   "execution_count": 32,
   "id": "a95c75a0110bce91",
   "metadata": {
    "ExecuteTime": {
     "end_time": "2025-06-14T21:17:20.127949Z",
     "start_time": "2025-06-14T21:17:20.093720Z"
    }
   },
   "outputs": [
    {
     "name": "stdout",
     "output_type": "stream",
     "text": [
      "YEAR > 2024 => N WATCHED: 23 || MEAN RATING: 3.04\n",
      "YEAR > 2022 => N WATCHED: 11 || MEAN RATING: 3.05\n",
      "YEAR > 2023 => N WATCHED: 9 || MEAN RATING: 3.17\n",
      "YEAR > 2021 => N WATCHED: 6 || MEAN RATING: 3.58\n",
      "YEAR > 2019 => N WATCHED: 6 || MEAN RATING: 3.92\n"
     ]
    }
   ],
   "source": [
    "from collections import Counter      #*****************************\n",
    "from itertools import islice\n",
    "\n",
    "# PEGA O ANO NO DATAFRAME E CONTA QUANTAS VEZES AQUELE ANO APARECEU NA LISTA DE ASSSISTIDOS\n",
    "years = df[\"Year\"].tolist()\n",
    "counter = Counter(years)\n",
    "\n",
    "geral_info = {}\n",
    "\n",
    "# DICIONÁRIO FORMADO PELA CHAVE (ANO), COM O PRIMEIRO VALOR QUANTIDADE DE FILMES DAQUELE ANO VISTOS E SEGUNDO VALOR MÉDIA DO ANO\n",
    "for item in counter.most_common(len(counter)):\n",
    "    geral_info[item[0]] = [item[1], df[(df[\"Year\"] == item[0])][\"Rating\"].mean().round(2)]\n",
    "\n",
    "for item in islice(geral_info.items(), 5):  # Limita a 5 itens\n",
    "    print(f\"YEAR > {item[0]} => N WATCHED: {item[1][0]} || MEAN RATING: {item[1][1]}\")\n"
   ]
  },
  {
   "cell_type": "markdown",
   "id": "47f2e2f7de46801d",
   "metadata": {},
   "source": [
    "Year with movies high rated (TOP FIVE BY MEAN RATING)"
   ]
  },
  {
   "cell_type": "code",
   "execution_count": 34,
   "id": "34630eeba70654cd",
   "metadata": {
    "ExecuteTime": {
     "end_time": "2025-06-14T21:18:35.817321Z",
     "start_time": "2025-06-14T21:18:35.806810Z"
    }
   },
   "outputs": [
    {
     "name": "stdout",
     "output_type": "stream",
     "text": [
      "YEAR > 1998 => N WATCHED: 1 || MEAN RATING: 5.0\n",
      "YEAR > 1995 => N WATCHED: 1 || MEAN RATING: 5.0\n",
      "YEAR > 1990 => N WATCHED: 2 || MEAN RATING: 4.5\n",
      "YEAR > 1992 => N WATCHED: 1 || MEAN RATING: 4.5\n",
      "YEAR > 2014 => N WATCHED: 3 || MEAN RATING: 4.33\n"
     ]
    }
   ],
   "source": [
    "for item in islice(sorted_dict_by_rating(geral_info).items(), 5):\n",
    "    print(f\"YEAR > {item[0]} => N WATCHED: {item[1][0]} || MEAN RATING: {item[1][1]}\")"
   ]
  },
  {
   "cell_type": "markdown",
   "id": "b3f465a1f0f1fe47",
   "metadata": {},
   "source": [
    "Genres with more wathed movies and the mean Rating (TOP FIVE BY NUMBER OF MOVIES)"
   ]
  },
  {
   "cell_type": "code",
   "execution_count": 35,
   "id": "ef6319ef701c2b88",
   "metadata": {
    "ExecuteTime": {
     "end_time": "2025-06-14T21:18:41.025735Z",
     "start_time": "2025-06-14T21:18:41.017177Z"
    }
   },
   "outputs": [
    {
     "name": "stdout",
     "output_type": "stream",
     "text": [
      "Drama => 59 movies, Mean Rating: 3.68\n",
      "\n",
      "Action => 46 movies, Mean Rating: 3.25\n",
      "\n",
      "Comedy => 35 movies, Mean Rating: 3.56\n",
      "\n",
      "Crime => 33 movies, Mean Rating: 3.59\n",
      "\n",
      "Adventure => 30 movies, Mean Rating: 3.32\n",
      "\n"
     ]
    }
   ],
   "source": [
    "separate_topic_and_most_wathed(\"Genre\", newest_df)"
   ]
  },
  {
   "cell_type": "markdown",
   "id": "b71cae0f9a7bbfc6",
   "metadata": {},
   "source": [
    "Genres with the high mean rating and the number of movies (TOP FIVE BY MEAN RATING)"
   ]
  },
  {
   "cell_type": "code",
   "execution_count": 36,
   "id": "ddcafb3e1ea55e77",
   "metadata": {
    "ExecuteTime": {
     "end_time": "2025-06-14T21:18:45.010952Z",
     "start_time": "2025-06-14T21:18:44.998198Z"
    }
   },
   "outputs": [
    {
     "name": "stdout",
     "output_type": "stream",
     "text": [
      "Genre > Biography => N WATCHED: 4 || MEAN RATING: 4.25\n",
      "Genre > History => N WATCHED: 2 || MEAN RATING: 4.25\n",
      "Genre > War => N WATCHED: 1 || MEAN RATING: 4.00\n",
      "Genre > Family => N WATCHED: 1 || MEAN RATING: 4.00\n",
      "Genre > Sport => N WATCHED: 2 || MEAN RATING: 3.75\n"
     ]
    }
   ],
   "source": [
    "format_dict_by_rating(\"Genre\", newest_df)"
   ]
  },
  {
   "cell_type": "markdown",
   "id": "84a8b8e8b235da74",
   "metadata": {},
   "source": [
    "Directors with more wathed movies and the mean Rating (TOP FIVE BY NUMBER OF MOVIES)"
   ]
  },
  {
   "cell_type": "code",
   "execution_count": 37,
   "id": "5ec7a0079317af21",
   "metadata": {
    "ExecuteTime": {
     "end_time": "2025-06-14T21:18:47.022334Z",
     "start_time": "2025-06-14T21:18:47.014260Z"
    }
   },
   "outputs": [
    {
     "name": "stdout",
     "output_type": "stream",
     "text": [
      "Martin Scorsese => 5 movies, Mean Rating: 4.40\n",
      "\n",
      "Jordan Peele => 3 movies, Mean Rating: 3.83\n",
      "\n",
      "Quentin Tarantino => 3 movies, Mean Rating: 4.00\n",
      "\n",
      "Ruben Fleischer => 2 movies, Mean Rating: 2.50\n",
      "\n",
      "Adam McKay => 2 movies, Mean Rating: 3.50\n",
      "\n"
     ]
    }
   ],
   "source": [
    "separate_topic_and_most_wathed(\"Director\", newest_df)"
   ]
  },
  {
   "cell_type": "markdown",
   "id": "d104608c2d081289",
   "metadata": {},
   "source": [
    "Directors with higher rated, and the number of watched movies (TOP FIVE BY RATING)"
   ]
  },
  {
   "cell_type": "code",
   "execution_count": 38,
   "id": "e6e90c071b1d0638",
   "metadata": {
    "ExecuteTime": {
     "end_time": "2025-06-14T21:18:49.613467Z",
     "start_time": "2025-06-14T21:18:49.606308Z"
    }
   },
   "outputs": [
    {
     "name": "stdout",
     "output_type": "stream",
     "text": [
      "Director > Peter Weir => N WATCHED: 1 || MEAN RATING: 5.00\n",
      "Director > Christopher Nolan => N WATCHED: 2 || MEAN RATING: 4.75\n",
      "Director > Zack Snyder => N WATCHED: 1 || MEAN RATING: 4.50\n",
      "Director > Marc Forster => N WATCHED: 1 || MEAN RATING: 4.50\n",
      "Director > Robert Zemeckis => N WATCHED: 1 || MEAN RATING: 4.50\n"
     ]
    }
   ],
   "source": [
    "format_dict_by_rating(\"Director\", newest_df)"
   ]
  },
  {
   "cell_type": "markdown",
   "id": "1dda843387e1e82a",
   "metadata": {},
   "source": [
    "Writers with more watched movies and the mean Rating (TOP 5 BY NUMBER OF MOVIES)"
   ]
  },
  {
   "cell_type": "code",
   "execution_count": 39,
   "id": "88443f1ba79c6a53",
   "metadata": {
    "ExecuteTime": {
     "end_time": "2025-06-14T21:18:52.757537Z",
     "start_time": "2025-06-14T21:18:52.749224Z"
    }
   },
   "outputs": [
    {
     "name": "stdout",
     "output_type": "stream",
     "text": [
      "Kelly Marcel => 3 movies, Mean Rating: 2.67\n",
      "\n",
      "Jordan Peele => 3 movies, Mean Rating: 3.83\n",
      "\n",
      "Derek Kolstad => 3 movies, Mean Rating: 3.50\n",
      "\n",
      "Rhett Reese => 3 movies, Mean Rating: 3.17\n",
      "\n",
      "Paul Wernick => 3 movies, Mean Rating: 3.17\n",
      "\n"
     ]
    }
   ],
   "source": [
    "separate_topic_and_most_wathed(\"Writer\", newest_df)"
   ]
  },
  {
   "cell_type": "markdown",
   "id": "522363225a25c8f0",
   "metadata": {},
   "source": [
    "Writers with higher rated and the number of watched movies (TOP FIVE BY RATING)"
   ]
  },
  {
   "cell_type": "code",
   "execution_count": 40,
   "id": "ceae3cb36389fcf2",
   "metadata": {
    "ExecuteTime": {
     "end_time": "2025-06-14T21:18:55.434889Z",
     "start_time": "2025-06-14T21:18:55.425901Z"
    }
   },
   "outputs": [
    {
     "name": "stdout",
     "output_type": "stream",
     "text": [
      "Writer > Nicholas Pileggi => N WATCHED: 1 || MEAN RATING: 5.00\n",
      "Writer > Martin Scorsese => N WATCHED: 1 || MEAN RATING: 5.00\n",
      "Writer > Andrew Niccol => N WATCHED: 1 || MEAN RATING: 5.00\n",
      "Writer > Andrew Kevin Walker => N WATCHED: 1 || MEAN RATING: 5.00\n",
      "Writer > Christopher Nolan => N WATCHED: 2 || MEAN RATING: 4.75\n"
     ]
    }
   ],
   "source": [
    "format_dict_by_rating(\"Writer\", newest_df)"
   ]
  },
  {
   "cell_type": "markdown",
   "id": "d565327efb9f90f5",
   "metadata": {},
   "source": [
    "Actors with more watched movies and the mean Rating (TOP 5 BY NUMBER OF MOVIES)"
   ]
  },
  {
   "cell_type": "code",
   "execution_count": 41,
   "id": "7e5f0840382fb252",
   "metadata": {
    "ExecuteTime": {
     "end_time": "2025-06-14T21:18:57.868208Z",
     "start_time": "2025-06-14T21:18:57.856922Z"
    }
   },
   "outputs": [
    {
     "name": "stdout",
     "output_type": "stream",
     "text": [
      "Brad Pitt => 5 movies, Mean Rating: 3.90\n",
      "\n",
      "Tom Hardy => 4 movies, Mean Rating: 2.75\n",
      "\n",
      "Leonardo DiCaprio => 4 movies, Mean Rating: 4.00\n",
      "\n",
      "Joe Pesci => 4 movies, Mean Rating: 4.50\n",
      "\n",
      "Adam Sandler => 3 movies, Mean Rating: 3.50\n",
      "\n"
     ]
    }
   ],
   "source": [
    "separate_topic_and_most_wathed(\"Actors\", newest_df)"
   ]
  },
  {
   "cell_type": "markdown",
   "id": "ea1c1989fd04512f",
   "metadata": {},
   "source": [
    "Actors with higher rated and the number of movies watched (TOP 5 BY RATING)"
   ]
  },
  {
   "cell_type": "code",
   "execution_count": 42,
   "id": "9defe4dcc9fb022f",
   "metadata": {
    "ExecuteTime": {
     "end_time": "2025-06-14T21:18:59.807105Z",
     "start_time": "2025-06-14T21:18:59.796925Z"
    }
   },
   "outputs": [
    {
     "name": "stdout",
     "output_type": "stream",
     "text": [
      "Actors > Ray Liotta => N WATCHED: 1 || MEAN RATING: 5.00\n",
      "Actors > Ed Harris => N WATCHED: 1 || MEAN RATING: 5.00\n",
      "Actors > Laura Linney => N WATCHED: 1 || MEAN RATING: 5.00\n",
      "Actors > Carrie-Anne Moss => N WATCHED: 1 || MEAN RATING: 5.00\n",
      "Actors > Joe Pantoliano => N WATCHED: 1 || MEAN RATING: 5.00\n"
     ]
    }
   ],
   "source": [
    "format_dict_by_rating(\"Actors\", newest_df)"
   ]
  },
  {
   "cell_type": "markdown",
   "id": "e2657e0dd51cf541",
   "metadata": {},
   "source": [
    "Movies per language and the mean rating of top 5 (TOP 5 BY NUMBER OF MOVIES)"
   ]
  },
  {
   "cell_type": "code",
   "execution_count": 43,
   "id": "d130461aae607eb6",
   "metadata": {
    "ExecuteTime": {
     "end_time": "2025-06-14T21:19:03.012844Z",
     "start_time": "2025-06-14T21:19:03.002257Z"
    }
   },
   "outputs": [
    {
     "name": "stdout",
     "output_type": "stream",
     "text": [
      "English => 108 movies, Mean Rating: 3.46\n",
      "\n",
      "Spanish => 35 movies, Mean Rating: 3.47\n",
      "\n",
      "French => 18 movies, Mean Rating: 3.58\n",
      "\n",
      "Portuguese => 10 movies, Mean Rating: 3.45\n",
      "\n",
      "Russian => 10 movies, Mean Rating: 3.35\n",
      "\n"
     ]
    }
   ],
   "source": [
    "separate_topic_and_most_wathed(\"Language\", newest_df)"
   ]
  },
  {
   "cell_type": "markdown",
   "id": "634b55a2e02cbd8d",
   "metadata": {},
   "source": [
    "COUNTRIES WITH HIGHER RATING AND THE NUMBER OF MOVIES WATCHED (TOP 5 BY RATING)"
   ]
  },
  {
   "cell_type": "code",
   "execution_count": 44,
   "id": "9888e941cc80e9e",
   "metadata": {
    "ExecuteTime": {
     "end_time": "2025-06-14T21:19:10.062584Z",
     "start_time": "2025-06-14T21:19:10.047923Z"
    }
   },
   "outputs": [
    {
     "name": "stdout",
     "output_type": "stream",
     "text": [
      "Country > Sweden => N WATCHED: 2 || MEAN RATING: 4.00\n",
      "Country > Ireland => N WATCHED: 2 || MEAN RATING: 4.00\n",
      "Country > United Arab Emirates => N WATCHED: 1 || MEAN RATING: 4.00\n",
      "Country > Jordan => N WATCHED: 1 || MEAN RATING: 4.00\n",
      "Country > Gambia => N WATCHED: 1 || MEAN RATING: 4.00\n"
     ]
    }
   ],
   "source": [
    "format_dict_by_rating(\"Country\", newest_df)"
   ]
  },
  {
   "cell_type": "markdown",
   "id": "afdbeb9da28847f4",
   "metadata": {},
   "source": [
    "Movies per country and the mean rating of top 5 (TOP 5 BY NUMBER OF MOVIES)"
   ]
  },
  {
   "cell_type": "code",
   "execution_count": 45,
   "id": "11215f5407c2c948",
   "metadata": {
    "ExecuteTime": {
     "end_time": "2025-06-14T21:19:11.821225Z",
     "start_time": "2025-06-14T21:19:11.814320Z"
    }
   },
   "outputs": [
    {
     "name": "stdout",
     "output_type": "stream",
     "text": [
      "United States => 104 movies, Mean Rating: 3.48\n",
      "\n",
      "Canada => 26 movies, Mean Rating: 3.33\n",
      "\n",
      "United Kingdom => 22 movies, Mean Rating: 3.50\n",
      "\n",
      "Japan => 6 movies, Mean Rating: 3.75\n",
      "\n",
      "France => 6 movies, Mean Rating: 3.58\n",
      "\n"
     ]
    }
   ],
   "source": [
    "separate_topic_and_most_wathed(\"Country\", newest_df)"
   ]
  },
  {
   "cell_type": "markdown",
   "id": "5dbb4cc2656cd71c",
   "metadata": {},
   "source": [
    "Languages with higher rated and the number of movies (TOP 5 BY RATING)"
   ]
  },
  {
   "cell_type": "code",
   "execution_count": 46,
   "id": "18e94292190e5d2",
   "metadata": {
    "ExecuteTime": {
     "end_time": "2025-06-14T21:19:17.147199Z",
     "start_time": "2025-06-14T21:19:17.128819Z"
    }
   },
   "outputs": [
    {
     "name": "stdout",
     "output_type": "stream",
     "text": [
      "Language > Icelandic => N WATCHED: 1 || MEAN RATING: 4.50\n",
      "Language > American Sign  => N WATCHED: 1 || MEAN RATING: 4.50\n",
      "Language > Latvian => N WATCHED: 1 || MEAN RATING: 4.50\n",
      "Language > Cantonese => N WATCHED: 5 || MEAN RATING: 4.10\n",
      "Language > Yiddish => N WATCHED: 2 || MEAN RATING: 4.00\n"
     ]
    }
   ],
   "source": [
    "format_dict_by_rating(\"Language\", newest_df)"
   ]
  }
 ],
 "metadata": {
  "kernelspec": {
   "display_name": ".venv",
   "language": "python",
   "name": "python3"
  },
  "language_info": {
   "codemirror_mode": {
    "name": "ipython",
    "version": 3
   },
   "file_extension": ".py",
   "mimetype": "text/x-python",
   "name": "python",
   "nbconvert_exporter": "python",
   "pygments_lexer": "ipython3",
   "version": "3.12.10"
  }
 },
 "nbformat": 4,
 "nbformat_minor": 5
}
